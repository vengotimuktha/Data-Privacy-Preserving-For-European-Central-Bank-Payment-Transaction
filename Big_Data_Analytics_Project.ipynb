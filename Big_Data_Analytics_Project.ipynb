{
  "nbformat": 4,
  "nbformat_minor": 0,
  "metadata": {
    "colab": {
      "provenance": [],
      "gpuType": "T4"
    },
    "kernelspec": {
      "name": "python3",
      "display_name": "Python 3"
    },
    "language_info": {
      "name": "python"
    }
  },
  "cells": [
    {
      "cell_type": "code",
      "execution_count": null,
      "metadata": {
        "colab": {
          "base_uri": "https://localhost:8080/"
        },
        "id": "nc8LuoRThcG8",
        "outputId": "5c60e921-9e51-4ffb-cd58-10849f3d99f0"
      },
      "outputs": [
        {
          "output_type": "stream",
          "name": "stdout",
          "text": [
            "Mounted at /content/drive\n"
          ]
        }
      ],
      "source": [
        " # Importing the drive module from google.colab package\n",
        "from google.colab import drive\n",
        "# Mounting the Google Drive to access files\n",
        "drive.mount(\"/content/drive\")"
      ]
    },
    {
      "cell_type": "code",
      "source": [
        "# Importing the drive module again\n",
        "from google.colab import drive\n",
        "# Mounting the Google Drive again\n",
        "drive.mount('/content/drive')"
      ],
      "metadata": {
        "colab": {
          "base_uri": "https://localhost:8080/"
        },
        "id": "tgrVSuKX6YOQ",
        "outputId": "c804cab5-0ca7-4372-aefa-bf532ab50d8a"
      },
      "execution_count": null,
      "outputs": [
        {
          "output_type": "stream",
          "name": "stdout",
          "text": [
            "Drive already mounted at /content/drive; to attempt to forcibly remount, call drive.mount(\"/content/drive\", force_remount=True).\n"
          ]
        }
      ]
    },
    {
      "cell_type": "code",
      "source": [
        "# Displaying the current working directory\n",
        "! pwd"
      ],
      "metadata": {
        "colab": {
          "base_uri": "https://localhost:8080/"
        },
        "id": "7nEevyb5i-5n",
        "outputId": "b96e3641-07e1-44a8-a55e-37e9a8d2781e"
      },
      "execution_count": null,
      "outputs": [
        {
          "output_type": "stream",
          "name": "stdout",
          "text": [
            "/content\n"
          ]
        }
      ]
    },
    {
      "cell_type": "code",
      "source": [
        "# Listing the files in the specified directory\n",
        "!ls /content/drive/MyDrive/Data.csv"
      ],
      "metadata": {
        "colab": {
          "base_uri": "https://localhost:8080/"
        },
        "id": "BWFfTqBcjKlM",
        "outputId": "d71bb590-cf0a-4a53-85be-c2a759d4c546"
      },
      "execution_count": null,
      "outputs": [
        {
          "output_type": "stream",
          "name": "stdout",
          "text": [
            "/content/drive/MyDrive/Data.csv\n"
          ]
        }
      ]
    },
    {
      "cell_type": "code",
      "source": [
        "# Importing the pandas library as pd\n",
        "import pandas as pd\n",
        "\n",
        " # Reading the CSV file into a DataFrame named df\n",
        "data = pd.read_csv(\"/content/drive/MyDrive/Data.csv\")\n",
        "\n",
        "# Displaying the first few rows of the DataFrame\n",
        "data.head()"
      ],
      "metadata": {
        "id": "E-eZF3Rb49AY",
        "colab": {
          "base_uri": "https://localhost:8080/",
          "height": 573
        },
        "outputId": "36141848-3115-42d8-be6c-201c5630b90d"
      },
      "execution_count": null,
      "outputs": [
        {
          "output_type": "execute_result",
          "data": {
            "text/plain": [
              "                          KEY FREQ REF_AREA COUNT_AREA TYP_TRNSCTN RL_TRNSCTN  \\\n",
              "0  PAY.A.AT.BG.TOTL.1._Z.N.PN    A       AT         BG        TOTL          1   \n",
              "1  PAY.A.AT.BG.TOTL.1._Z.N.PN    A       AT         BG        TOTL          1   \n",
              "2  PAY.A.AT.BG.TOTL.1._Z.N.PN    A       AT         BG        TOTL          1   \n",
              "3  PAY.A.AT.BG.TOTL.1._Z.N.PN    A       AT         BG        TOTL          1   \n",
              "4  PAY.A.AT.BG.TOTL.1._Z.N.PN    A       AT         BG        TOTL          1   \n",
              "\n",
              "  FRD_TYP TRANSFORMATION UNIT_MEASURE TIME_PERIOD  OBS_VALUE OBS_STATUS  \\\n",
              "0      _Z              N           PN        2014      0.242          A   \n",
              "1      _Z              N           PN        2015      0.268          A   \n",
              "2      _Z              N           PN        2016      0.689          A   \n",
              "3      _Z              N           PN        2017      0.632          A   \n",
              "4      _Z              N           PN        2018      0.615          A   \n",
              "\n",
              "  CONF_STATUS TIME_FORMAT TIME_PER_COLLECT  DECIMALS  \\\n",
              "0           F         P1Y                S         3   \n",
              "1           F         P1Y                S         3   \n",
              "2           F         P1Y                S         3   \n",
              "3           F         P1Y                S         3   \n",
              "4           F         P1Y                S         3   \n",
              "\n",
              "                                               TITLE  \\\n",
              "0  Number of Total payment transactions [sum of C...   \n",
              "1  Number of Total payment transactions [sum of C...   \n",
              "2  Number of Total payment transactions [sum of C...   \n",
              "3  Number of Total payment transactions [sum of C...   \n",
              "4  Number of Total payment transactions [sum of C...   \n",
              "\n",
              "                                         TITLE_COMPL UNIT  UNIT_MULT  \n",
              "0  Number of Total payment transactions [sum of C...   PN          6  \n",
              "1  Number of Total payment transactions [sum of C...   PN          6  \n",
              "2  Number of Total payment transactions [sum of C...   PN          6  \n",
              "3  Number of Total payment transactions [sum of C...   PN          6  \n",
              "4  Number of Total payment transactions [sum of C...   PN          6  "
            ],
            "text/html": [
              "\n",
              "  <div id=\"df-441480d0-156e-4d1d-ad69-84994049942f\" class=\"colab-df-container\">\n",
              "    <div>\n",
              "<style scoped>\n",
              "    .dataframe tbody tr th:only-of-type {\n",
              "        vertical-align: middle;\n",
              "    }\n",
              "\n",
              "    .dataframe tbody tr th {\n",
              "        vertical-align: top;\n",
              "    }\n",
              "\n",
              "    .dataframe thead th {\n",
              "        text-align: right;\n",
              "    }\n",
              "</style>\n",
              "<table border=\"1\" class=\"dataframe\">\n",
              "  <thead>\n",
              "    <tr style=\"text-align: right;\">\n",
              "      <th></th>\n",
              "      <th>KEY</th>\n",
              "      <th>FREQ</th>\n",
              "      <th>REF_AREA</th>\n",
              "      <th>COUNT_AREA</th>\n",
              "      <th>TYP_TRNSCTN</th>\n",
              "      <th>RL_TRNSCTN</th>\n",
              "      <th>FRD_TYP</th>\n",
              "      <th>TRANSFORMATION</th>\n",
              "      <th>UNIT_MEASURE</th>\n",
              "      <th>TIME_PERIOD</th>\n",
              "      <th>OBS_VALUE</th>\n",
              "      <th>OBS_STATUS</th>\n",
              "      <th>CONF_STATUS</th>\n",
              "      <th>TIME_FORMAT</th>\n",
              "      <th>TIME_PER_COLLECT</th>\n",
              "      <th>DECIMALS</th>\n",
              "      <th>TITLE</th>\n",
              "      <th>TITLE_COMPL</th>\n",
              "      <th>UNIT</th>\n",
              "      <th>UNIT_MULT</th>\n",
              "    </tr>\n",
              "  </thead>\n",
              "  <tbody>\n",
              "    <tr>\n",
              "      <th>0</th>\n",
              "      <td>PAY.A.AT.BG.TOTL.1._Z.N.PN</td>\n",
              "      <td>A</td>\n",
              "      <td>AT</td>\n",
              "      <td>BG</td>\n",
              "      <td>TOTL</td>\n",
              "      <td>1</td>\n",
              "      <td>_Z</td>\n",
              "      <td>N</td>\n",
              "      <td>PN</td>\n",
              "      <td>2014</td>\n",
              "      <td>0.242</td>\n",
              "      <td>A</td>\n",
              "      <td>F</td>\n",
              "      <td>P1Y</td>\n",
              "      <td>S</td>\n",
              "      <td>3</td>\n",
              "      <td>Number of Total payment transactions [sum of C...</td>\n",
              "      <td>Number of Total payment transactions [sum of C...</td>\n",
              "      <td>PN</td>\n",
              "      <td>6</td>\n",
              "    </tr>\n",
              "    <tr>\n",
              "      <th>1</th>\n",
              "      <td>PAY.A.AT.BG.TOTL.1._Z.N.PN</td>\n",
              "      <td>A</td>\n",
              "      <td>AT</td>\n",
              "      <td>BG</td>\n",
              "      <td>TOTL</td>\n",
              "      <td>1</td>\n",
              "      <td>_Z</td>\n",
              "      <td>N</td>\n",
              "      <td>PN</td>\n",
              "      <td>2015</td>\n",
              "      <td>0.268</td>\n",
              "      <td>A</td>\n",
              "      <td>F</td>\n",
              "      <td>P1Y</td>\n",
              "      <td>S</td>\n",
              "      <td>3</td>\n",
              "      <td>Number of Total payment transactions [sum of C...</td>\n",
              "      <td>Number of Total payment transactions [sum of C...</td>\n",
              "      <td>PN</td>\n",
              "      <td>6</td>\n",
              "    </tr>\n",
              "    <tr>\n",
              "      <th>2</th>\n",
              "      <td>PAY.A.AT.BG.TOTL.1._Z.N.PN</td>\n",
              "      <td>A</td>\n",
              "      <td>AT</td>\n",
              "      <td>BG</td>\n",
              "      <td>TOTL</td>\n",
              "      <td>1</td>\n",
              "      <td>_Z</td>\n",
              "      <td>N</td>\n",
              "      <td>PN</td>\n",
              "      <td>2016</td>\n",
              "      <td>0.689</td>\n",
              "      <td>A</td>\n",
              "      <td>F</td>\n",
              "      <td>P1Y</td>\n",
              "      <td>S</td>\n",
              "      <td>3</td>\n",
              "      <td>Number of Total payment transactions [sum of C...</td>\n",
              "      <td>Number of Total payment transactions [sum of C...</td>\n",
              "      <td>PN</td>\n",
              "      <td>6</td>\n",
              "    </tr>\n",
              "    <tr>\n",
              "      <th>3</th>\n",
              "      <td>PAY.A.AT.BG.TOTL.1._Z.N.PN</td>\n",
              "      <td>A</td>\n",
              "      <td>AT</td>\n",
              "      <td>BG</td>\n",
              "      <td>TOTL</td>\n",
              "      <td>1</td>\n",
              "      <td>_Z</td>\n",
              "      <td>N</td>\n",
              "      <td>PN</td>\n",
              "      <td>2017</td>\n",
              "      <td>0.632</td>\n",
              "      <td>A</td>\n",
              "      <td>F</td>\n",
              "      <td>P1Y</td>\n",
              "      <td>S</td>\n",
              "      <td>3</td>\n",
              "      <td>Number of Total payment transactions [sum of C...</td>\n",
              "      <td>Number of Total payment transactions [sum of C...</td>\n",
              "      <td>PN</td>\n",
              "      <td>6</td>\n",
              "    </tr>\n",
              "    <tr>\n",
              "      <th>4</th>\n",
              "      <td>PAY.A.AT.BG.TOTL.1._Z.N.PN</td>\n",
              "      <td>A</td>\n",
              "      <td>AT</td>\n",
              "      <td>BG</td>\n",
              "      <td>TOTL</td>\n",
              "      <td>1</td>\n",
              "      <td>_Z</td>\n",
              "      <td>N</td>\n",
              "      <td>PN</td>\n",
              "      <td>2018</td>\n",
              "      <td>0.615</td>\n",
              "      <td>A</td>\n",
              "      <td>F</td>\n",
              "      <td>P1Y</td>\n",
              "      <td>S</td>\n",
              "      <td>3</td>\n",
              "      <td>Number of Total payment transactions [sum of C...</td>\n",
              "      <td>Number of Total payment transactions [sum of C...</td>\n",
              "      <td>PN</td>\n",
              "      <td>6</td>\n",
              "    </tr>\n",
              "  </tbody>\n",
              "</table>\n",
              "</div>\n",
              "    <div class=\"colab-df-buttons\">\n",
              "\n",
              "  <div class=\"colab-df-container\">\n",
              "    <button class=\"colab-df-convert\" onclick=\"convertToInteractive('df-441480d0-156e-4d1d-ad69-84994049942f')\"\n",
              "            title=\"Convert this dataframe to an interactive table.\"\n",
              "            style=\"display:none;\">\n",
              "\n",
              "  <svg xmlns=\"http://www.w3.org/2000/svg\" height=\"24px\" viewBox=\"0 -960 960 960\">\n",
              "    <path d=\"M120-120v-720h720v720H120Zm60-500h600v-160H180v160Zm220 220h160v-160H400v160Zm0 220h160v-160H400v160ZM180-400h160v-160H180v160Zm440 0h160v-160H620v160ZM180-180h160v-160H180v160Zm440 0h160v-160H620v160Z\"/>\n",
              "  </svg>\n",
              "    </button>\n",
              "\n",
              "  <style>\n",
              "    .colab-df-container {\n",
              "      display:flex;\n",
              "      gap: 12px;\n",
              "    }\n",
              "\n",
              "    .colab-df-convert {\n",
              "      background-color: #E8F0FE;\n",
              "      border: none;\n",
              "      border-radius: 50%;\n",
              "      cursor: pointer;\n",
              "      display: none;\n",
              "      fill: #1967D2;\n",
              "      height: 32px;\n",
              "      padding: 0 0 0 0;\n",
              "      width: 32px;\n",
              "    }\n",
              "\n",
              "    .colab-df-convert:hover {\n",
              "      background-color: #E2EBFA;\n",
              "      box-shadow: 0px 1px 2px rgba(60, 64, 67, 0.3), 0px 1px 3px 1px rgba(60, 64, 67, 0.15);\n",
              "      fill: #174EA6;\n",
              "    }\n",
              "\n",
              "    .colab-df-buttons div {\n",
              "      margin-bottom: 4px;\n",
              "    }\n",
              "\n",
              "    [theme=dark] .colab-df-convert {\n",
              "      background-color: #3B4455;\n",
              "      fill: #D2E3FC;\n",
              "    }\n",
              "\n",
              "    [theme=dark] .colab-df-convert:hover {\n",
              "      background-color: #434B5C;\n",
              "      box-shadow: 0px 1px 3px 1px rgba(0, 0, 0, 0.15);\n",
              "      filter: drop-shadow(0px 1px 2px rgba(0, 0, 0, 0.3));\n",
              "      fill: #FFFFFF;\n",
              "    }\n",
              "  </style>\n",
              "\n",
              "    <script>\n",
              "      const buttonEl =\n",
              "        document.querySelector('#df-441480d0-156e-4d1d-ad69-84994049942f button.colab-df-convert');\n",
              "      buttonEl.style.display =\n",
              "        google.colab.kernel.accessAllowed ? 'block' : 'none';\n",
              "\n",
              "      async function convertToInteractive(key) {\n",
              "        const element = document.querySelector('#df-441480d0-156e-4d1d-ad69-84994049942f');\n",
              "        const dataTable =\n",
              "          await google.colab.kernel.invokeFunction('convertToInteractive',\n",
              "                                                    [key], {});\n",
              "        if (!dataTable) return;\n",
              "\n",
              "        const docLinkHtml = 'Like what you see? Visit the ' +\n",
              "          '<a target=\"_blank\" href=https://colab.research.google.com/notebooks/data_table.ipynb>data table notebook</a>'\n",
              "          + ' to learn more about interactive tables.';\n",
              "        element.innerHTML = '';\n",
              "        dataTable['output_type'] = 'display_data';\n",
              "        await google.colab.output.renderOutput(dataTable, element);\n",
              "        const docLink = document.createElement('div');\n",
              "        docLink.innerHTML = docLinkHtml;\n",
              "        element.appendChild(docLink);\n",
              "      }\n",
              "    </script>\n",
              "  </div>\n",
              "\n",
              "\n",
              "<div id=\"df-e5485969-156a-4061-840d-c935c485ebb0\">\n",
              "  <button class=\"colab-df-quickchart\" onclick=\"quickchart('df-e5485969-156a-4061-840d-c935c485ebb0')\"\n",
              "            title=\"Suggest charts\"\n",
              "            style=\"display:none;\">\n",
              "\n",
              "<svg xmlns=\"http://www.w3.org/2000/svg\" height=\"24px\"viewBox=\"0 0 24 24\"\n",
              "     width=\"24px\">\n",
              "    <g>\n",
              "        <path d=\"M19 3H5c-1.1 0-2 .9-2 2v14c0 1.1.9 2 2 2h14c1.1 0 2-.9 2-2V5c0-1.1-.9-2-2-2zM9 17H7v-7h2v7zm4 0h-2V7h2v10zm4 0h-2v-4h2v4z\"/>\n",
              "    </g>\n",
              "</svg>\n",
              "  </button>\n",
              "\n",
              "<style>\n",
              "  .colab-df-quickchart {\n",
              "      --bg-color: #E8F0FE;\n",
              "      --fill-color: #1967D2;\n",
              "      --hover-bg-color: #E2EBFA;\n",
              "      --hover-fill-color: #174EA6;\n",
              "      --disabled-fill-color: #AAA;\n",
              "      --disabled-bg-color: #DDD;\n",
              "  }\n",
              "\n",
              "  [theme=dark] .colab-df-quickchart {\n",
              "      --bg-color: #3B4455;\n",
              "      --fill-color: #D2E3FC;\n",
              "      --hover-bg-color: #434B5C;\n",
              "      --hover-fill-color: #FFFFFF;\n",
              "      --disabled-bg-color: #3B4455;\n",
              "      --disabled-fill-color: #666;\n",
              "  }\n",
              "\n",
              "  .colab-df-quickchart {\n",
              "    background-color: var(--bg-color);\n",
              "    border: none;\n",
              "    border-radius: 50%;\n",
              "    cursor: pointer;\n",
              "    display: none;\n",
              "    fill: var(--fill-color);\n",
              "    height: 32px;\n",
              "    padding: 0;\n",
              "    width: 32px;\n",
              "  }\n",
              "\n",
              "  .colab-df-quickchart:hover {\n",
              "    background-color: var(--hover-bg-color);\n",
              "    box-shadow: 0 1px 2px rgba(60, 64, 67, 0.3), 0 1px 3px 1px rgba(60, 64, 67, 0.15);\n",
              "    fill: var(--button-hover-fill-color);\n",
              "  }\n",
              "\n",
              "  .colab-df-quickchart-complete:disabled,\n",
              "  .colab-df-quickchart-complete:disabled:hover {\n",
              "    background-color: var(--disabled-bg-color);\n",
              "    fill: var(--disabled-fill-color);\n",
              "    box-shadow: none;\n",
              "  }\n",
              "\n",
              "  .colab-df-spinner {\n",
              "    border: 2px solid var(--fill-color);\n",
              "    border-color: transparent;\n",
              "    border-bottom-color: var(--fill-color);\n",
              "    animation:\n",
              "      spin 1s steps(1) infinite;\n",
              "  }\n",
              "\n",
              "  @keyframes spin {\n",
              "    0% {\n",
              "      border-color: transparent;\n",
              "      border-bottom-color: var(--fill-color);\n",
              "      border-left-color: var(--fill-color);\n",
              "    }\n",
              "    20% {\n",
              "      border-color: transparent;\n",
              "      border-left-color: var(--fill-color);\n",
              "      border-top-color: var(--fill-color);\n",
              "    }\n",
              "    30% {\n",
              "      border-color: transparent;\n",
              "      border-left-color: var(--fill-color);\n",
              "      border-top-color: var(--fill-color);\n",
              "      border-right-color: var(--fill-color);\n",
              "    }\n",
              "    40% {\n",
              "      border-color: transparent;\n",
              "      border-right-color: var(--fill-color);\n",
              "      border-top-color: var(--fill-color);\n",
              "    }\n",
              "    60% {\n",
              "      border-color: transparent;\n",
              "      border-right-color: var(--fill-color);\n",
              "    }\n",
              "    80% {\n",
              "      border-color: transparent;\n",
              "      border-right-color: var(--fill-color);\n",
              "      border-bottom-color: var(--fill-color);\n",
              "    }\n",
              "    90% {\n",
              "      border-color: transparent;\n",
              "      border-bottom-color: var(--fill-color);\n",
              "    }\n",
              "  }\n",
              "</style>\n",
              "\n",
              "  <script>\n",
              "    async function quickchart(key) {\n",
              "      const quickchartButtonEl =\n",
              "        document.querySelector('#' + key + ' button');\n",
              "      quickchartButtonEl.disabled = true;  // To prevent multiple clicks.\n",
              "      quickchartButtonEl.classList.add('colab-df-spinner');\n",
              "      try {\n",
              "        const charts = await google.colab.kernel.invokeFunction(\n",
              "            'suggestCharts', [key], {});\n",
              "      } catch (error) {\n",
              "        console.error('Error during call to suggestCharts:', error);\n",
              "      }\n",
              "      quickchartButtonEl.classList.remove('colab-df-spinner');\n",
              "      quickchartButtonEl.classList.add('colab-df-quickchart-complete');\n",
              "    }\n",
              "    (() => {\n",
              "      let quickchartButtonEl =\n",
              "        document.querySelector('#df-e5485969-156a-4061-840d-c935c485ebb0 button');\n",
              "      quickchartButtonEl.style.display =\n",
              "        google.colab.kernel.accessAllowed ? 'block' : 'none';\n",
              "    })();\n",
              "  </script>\n",
              "</div>\n",
              "\n",
              "    </div>\n",
              "  </div>\n"
            ],
            "application/vnd.google.colaboratory.intrinsic+json": {
              "type": "dataframe",
              "variable_name": "data"
            }
          },
          "metadata": {},
          "execution_count": 6
        }
      ]
    },
    {
      "cell_type": "code",
      "source": [
        "# Displaying the column names of the DataFrame\n",
        "data.columns"
      ],
      "metadata": {
        "id": "VIQrIkhy5JOZ",
        "colab": {
          "base_uri": "https://localhost:8080/"
        },
        "outputId": "80c43077-0c81-47c7-dbf6-b6efcea71014"
      },
      "execution_count": null,
      "outputs": [
        {
          "output_type": "execute_result",
          "data": {
            "text/plain": [
              "Index(['KEY', 'FREQ', 'REF_AREA', 'COUNT_AREA', 'TYP_TRNSCTN', 'RL_TRNSCTN',\n",
              "       'FRD_TYP', 'TRANSFORMATION', 'UNIT_MEASURE', 'TIME_PERIOD', 'OBS_VALUE',\n",
              "       'OBS_STATUS', 'CONF_STATUS', 'TIME_FORMAT', 'TIME_PER_COLLECT',\n",
              "       'DECIMALS', 'TITLE', 'TITLE_COMPL', 'UNIT', 'UNIT_MULT'],\n",
              "      dtype='object')"
            ]
          },
          "metadata": {},
          "execution_count": 7
        }
      ]
    },
    {
      "cell_type": "markdown",
      "source": [
        "#Pre-Processing"
      ],
      "metadata": {
        "id": "EI3zU5cKDz5h"
      }
    },
    {
      "cell_type": "code",
      "source": [
        "# Calculating the number of missing values in each column of the DataFrame\n",
        "data.isnull().sum()"
      ],
      "metadata": {
        "id": "N32yq47P5KpQ",
        "colab": {
          "base_uri": "https://localhost:8080/"
        },
        "outputId": "46a9bd06-f653-4b2d-87dd-42fe86f14943"
      },
      "execution_count": null,
      "outputs": [
        {
          "output_type": "execute_result",
          "data": {
            "text/plain": [
              "KEY                     0\n",
              "FREQ                    0\n",
              "REF_AREA                0\n",
              "COUNT_AREA              0\n",
              "TYP_TRNSCTN             0\n",
              "RL_TRNSCTN              0\n",
              "FRD_TYP                 0\n",
              "TRANSFORMATION          0\n",
              "UNIT_MEASURE            0\n",
              "TIME_PERIOD             0\n",
              "OBS_VALUE           43058\n",
              "OBS_STATUS              0\n",
              "CONF_STATUS             0\n",
              "TIME_FORMAT             0\n",
              "TIME_PER_COLLECT        0\n",
              "DECIMALS                0\n",
              "TITLE                   0\n",
              "TITLE_COMPL             0\n",
              "UNIT                    0\n",
              "UNIT_MULT               0\n",
              "dtype: int64"
            ]
          },
          "metadata": {},
          "execution_count": 8
        }
      ]
    },
    {
      "cell_type": "code",
      "source": [
        "# Displaying the data types of each column in the DataFrame\n",
        "data.dtypes"
      ],
      "metadata": {
        "id": "7OnVauh75Oe6",
        "colab": {
          "base_uri": "https://localhost:8080/"
        },
        "outputId": "182ac1ca-6095-4c0c-e0b5-9860256bf5f9"
      },
      "execution_count": null,
      "outputs": [
        {
          "output_type": "execute_result",
          "data": {
            "text/plain": [
              "KEY                  object\n",
              "FREQ                 object\n",
              "REF_AREA             object\n",
              "COUNT_AREA           object\n",
              "TYP_TRNSCTN          object\n",
              "RL_TRNSCTN           object\n",
              "FRD_TYP              object\n",
              "TRANSFORMATION       object\n",
              "UNIT_MEASURE         object\n",
              "TIME_PERIOD          object\n",
              "OBS_VALUE           float64\n",
              "OBS_STATUS           object\n",
              "CONF_STATUS          object\n",
              "TIME_FORMAT          object\n",
              "TIME_PER_COLLECT     object\n",
              "DECIMALS              int64\n",
              "TITLE                object\n",
              "TITLE_COMPL          object\n",
              "UNIT                 object\n",
              "UNIT_MULT             int64\n",
              "dtype: object"
            ]
          },
          "metadata": {},
          "execution_count": 9
        }
      ]
    },
    {
      "cell_type": "code",
      "source": [
        "#Imputation method to handle missing values\n",
        "# Calculating the mean of the 'OBS_VALUE' column\n",
        "cal_mean= data['OBS_VALUE'].mean()\n",
        "\n",
        "# Filling missing values in the 'OBS_VALUE' column with the mean\n",
        "data['OBS_VALUE'] = data['OBS_VALUE'].fillna(cal_mean)"
      ],
      "metadata": {
        "id": "D1ZTqaTk5SKL"
      },
      "execution_count": null,
      "outputs": []
    },
    {
      "cell_type": "code",
      "source": [
        "# Calculating the number of missing values in each column of the DataFrame after filling missing values\n",
        "data.isnull().sum()"
      ],
      "metadata": {
        "id": "NdG2Vkqg5UgD",
        "colab": {
          "base_uri": "https://localhost:8080/"
        },
        "outputId": "7b87d545-cfba-428c-914d-259db4a5babf"
      },
      "execution_count": null,
      "outputs": [
        {
          "output_type": "execute_result",
          "data": {
            "text/plain": [
              "KEY                 0\n",
              "FREQ                0\n",
              "REF_AREA            0\n",
              "COUNT_AREA          0\n",
              "TYP_TRNSCTN         0\n",
              "RL_TRNSCTN          0\n",
              "FRD_TYP             0\n",
              "TRANSFORMATION      0\n",
              "UNIT_MEASURE        0\n",
              "TIME_PERIOD         0\n",
              "OBS_VALUE           0\n",
              "OBS_STATUS          0\n",
              "CONF_STATUS         0\n",
              "TIME_FORMAT         0\n",
              "TIME_PER_COLLECT    0\n",
              "DECIMALS            0\n",
              "TITLE               0\n",
              "TITLE_COMPL         0\n",
              "UNIT                0\n",
              "UNIT_MULT           0\n",
              "dtype: int64"
            ]
          },
          "metadata": {},
          "execution_count": 11
        }
      ]
    },
    {
      "cell_type": "code",
      "source": [
        "# Droping the 'FREQ' column (As this column is not necessary for our analysis)\n",
        "data.drop(columns=['FREQ'], inplace=True)\n"
      ],
      "metadata": {
        "id": "Y0i0UFAs5XeR"
      },
      "execution_count": null,
      "outputs": []
    },
    {
      "cell_type": "markdown",
      "source": [
        "Exploratory Data Analysis"
      ],
      "metadata": {
        "id": "JJCgixrX5a4n"
      }
    },
    {
      "cell_type": "code",
      "source": [
        "# Summary statistics for numeric variables\n",
        "numeric_summary = data.describe()\n",
        "print(numeric_summary)\n"
      ],
      "metadata": {
        "id": "c6bTbLjI5dmQ",
        "colab": {
          "base_uri": "https://localhost:8080/"
        },
        "outputId": "4b93ce78-e9e1-4991-fcee-16b3f0757707"
      },
      "execution_count": null,
      "outputs": [
        {
          "output_type": "stream",
          "name": "stdout",
          "text": [
            "          OBS_VALUE  DECIMALS      UNIT_MULT\n",
            "count  2.661990e+05  266199.0  266199.000000\n",
            "mean   8.325763e+05       3.0       3.704304\n",
            "std    2.044859e+07       0.0       2.916160\n",
            "min   -1.000000e+02       3.0       0.000000\n",
            "25%    2.302290e-02       3.0       0.000000\n",
            "50%    1.317291e+01       3.0       6.000000\n",
            "75%    8.096044e+03       3.0       6.000000\n",
            "max    2.351327e+09       3.0       6.000000\n"
          ]
        }
      ]
    },
    {
      "cell_type": "code",
      "source": [
        "import seaborn as sns\n",
        "import matplotlib.pyplot as plt\n",
        "\n",
        "# KDE plot for OBS_VALUE\n",
        "plt.figure(figsize=(10, 4))\n",
        "sns.kdeplot(data['OBS_VALUE'], color='skyblue', fill=True)\n",
        "plt.xlabel('OBS_VALUE')\n",
        "plt.ylabel('Density')\n",
        "plt.title('Kernel Density Estimate Plot of OBS_VALUE')\n",
        "plt.show()\n",
        "\n"
      ],
      "metadata": {
        "id": "VmwEHY4B5gVd",
        "colab": {
          "base_uri": "https://localhost:8080/",
          "height": 410
        },
        "outputId": "7c309a78-0068-45b9-b356-f16592796661"
      },
      "execution_count": null,
      "outputs": [
        {
          "output_type": "display_data",
          "data": {
            "text/plain": [
              "<Figure size 1000x400 with 1 Axes>"
            ],
            "image/png": "[encoded data removed]"
          },
          "metadata": {}
        }
      ]
    },
    {
      "cell_type": "code",
      "source": [
        "import seaborn as sns\n",
        "# Exclude non-numeric columns from correlation analysis\n",
        "num_col = data.select_dtypes(include=['float64', 'int64']).columns\n",
        "corr_matrix = data[num_col].corr()\n",
        "\n",
        "# Heatmap of correlation matrix\n",
        "plt.figure(figsize=(10, 8))\n",
        "sns.heatmap(corr_matrix, annot=True, cmap='coolwarm', fmt=\".2f\", linewidths=0.5)\n",
        "plt.title('Correlation Heatmap')\n",
        "plt.show()"
      ],
      "metadata": {
        "id": "bFRhNx3K5nXq",
        "colab": {
          "base_uri": "https://localhost:8080/",
          "height": 699
        },
        "outputId": "d7b415cc-56fc-4575-977b-179b2163cb3b"
      },
      "execution_count": null,
      "outputs": [
        {
          "output_type": "display_data",
          "data": {
            "text/plain": [
              "<Figure size 1000x800 with 2 Axes>"
            ],
            "image/png": "[encoded data removed]"
          },
          "metadata": {}
        }
      ]
    },
    {
      "cell_type": "code",
      "source": [
        "# Scatter plot between OBS_VALUE and TIME_PERIOD\n",
        "plt.figure(figsize=(17, 6))  # Increase the width of the figure\n",
        "plt.scatter(data['TIME_PERIOD'], data['OBS_VALUE'], alpha=0.5)\n",
        "plt.xlabel('TIME_PERIOD')\n",
        "plt.ylabel('OBS_VALUE')\n",
        "plt.title('Scatter Plot between TIME_PERIOD and OBS_VALUE')\n",
        "plt.show()"
      ],
      "metadata": {
        "id": "Ka8lLh1i5qR4",
        "colab": {
          "base_uri": "https://localhost:8080/",
          "height": 564
        },
        "outputId": "d35b6fed-125c-45bf-8fec-6eeacc2ba0fb"
      },
      "execution_count": null,
      "outputs": [
        {
          "output_type": "display_data",
          "data": {
            "text/plain": [
              "<Figure size 1700x600 with 1 Axes>"
            ],
            "image/png": "[encoded data removed]"
          },
          "metadata": {}
        }
      ]
    },
    {
      "cell_type": "code",
      "source": [
        "from scipy import stats\n",
        "\n",
        "# Calculating Z-scores for 'OBS_VALUE'\n",
        "z_Score = stats.zscore(data['OBS_VALUE'])\n",
        "\n",
        "# Defining a threshold for identifying outliers (e.g., z-score > 3 or < -3)\n",
        "threshold = 3\n",
        "\n",
        "# Identifing outliers based on the threshold\n",
        "outliers_cal = (z_Score > threshold) | (z_Score < -threshold)\n",
        "\n",
        "# Removing outliers from the DataFrame\n",
        "data = data[~outliers_cal]\n",
        "print(\"Shape of cleaned DataFrame after removing outliers:\", data.shape)\n"
      ],
      "metadata": {
        "id": "69UTYheI5uGC",
        "colab": {
          "base_uri": "https://localhost:8080/"
        },
        "outputId": "266161d1-0434-44d7-fcb0-bc0c7d9f3ad2"
      },
      "execution_count": null,
      "outputs": [
        {
          "output_type": "stream",
          "name": "stdout",
          "text": [
            "Shape of cleaned DataFrame after removing outliers: (265764, 19)\n"
          ]
        }
      ]
    },
    {
      "cell_type": "code",
      "source": [
        "# Creating Interaction Terms:\n",
        "#Interaction between 'TYP_TRNSCTN' and 'REF_AREA'\n",
        "data['Transaction_Location'] = data['TYP_TRNSCTN'] + '_' + data['REF_AREA']\n",
        "\n",
        "# Deriving New Features:\n",
        "#  Calculate the total transaction count for each transaction type\n",
        "tran_count = data.groupby('TYP_TRNSCTN')['OBS_VALUE'].count().reset_index()\n",
        "tran_count.rename(columns={'OBS_VALUE': 'Transaction_Count'}, inplace=True)\n",
        "\n",
        "# Merging the transaction counts back to the original DataFrame\n",
        "data = data.merge(tran_count, on='TYP_TRNSCTN', how='left')\n",
        "\n",
        "# Calculating the average transaction amount for each transaction type\n",
        "avg_tran_amount = data.groupby('TYP_TRNSCTN')['OBS_VALUE'].mean().reset_index()\n",
        "avg_tran_amount.rename(columns={'OBS_VALUE': 'Avg_Transaction_Amount'}, inplace=True)\n",
        "\n",
        "# Merging the average transaction amounts back to the original DataFrame\n",
        "data = data.merge(avg_tran_amount, on='TYP_TRNSCTN', how='left')\n",
        "\n",
        "data.head()\n"
      ],
      "metadata": {
        "id": "2aUfRHOU52Rp",
        "colab": {
          "base_uri": "https://localhost:8080/",
          "height": 707
        },
        "outputId": "2c407ed7-3aea-46ec-f006-919f22e48f1c"
      },
      "execution_count": null,
      "outputs": [
        {
          "output_type": "stream",
          "name": "stderr",
          "text": [
            "<ipython-input-18-356c8fec7eec>:3: SettingWithCopyWarning: \n",
            "A value is trying to be set on a copy of a slice from a DataFrame.\n",
            "Try using .loc[row_indexer,col_indexer] = value instead\n",
            "\n",
            "See the caveats in the documentation: https://pandas.pydata.org/pandas-docs/stable/user_guide/indexing.html#returning-a-view-versus-a-copy\n",
            "  data['Transaction_Location'] = data['TYP_TRNSCTN'] + '_' + data['REF_AREA']\n"
          ]
        },
        {
          "output_type": "execute_result",
          "data": {
            "text/plain": [
              "                          KEY REF_AREA COUNT_AREA TYP_TRNSCTN RL_TRNSCTN  \\\n",
              "0  PAY.A.AT.BG.TOTL.1._Z.N.PN       AT         BG        TOTL          1   \n",
              "1  PAY.A.AT.BG.TOTL.1._Z.N.PN       AT         BG        TOTL          1   \n",
              "2  PAY.A.AT.BG.TOTL.1._Z.N.PN       AT         BG        TOTL          1   \n",
              "3  PAY.A.AT.BG.TOTL.1._Z.N.PN       AT         BG        TOTL          1   \n",
              "4  PAY.A.AT.BG.TOTL.1._Z.N.PN       AT         BG        TOTL          1   \n",
              "\n",
              "  FRD_TYP TRANSFORMATION UNIT_MEASURE TIME_PERIOD  OBS_VALUE  ... TIME_FORMAT  \\\n",
              "0      _Z              N           PN        2014      0.242  ...         P1Y   \n",
              "1      _Z              N           PN        2015      0.268  ...         P1Y   \n",
              "2      _Z              N           PN        2016      0.689  ...         P1Y   \n",
              "3      _Z              N           PN        2017      0.632  ...         P1Y   \n",
              "4      _Z              N           PN        2018      0.615  ...         P1Y   \n",
              "\n",
              "  TIME_PER_COLLECT DECIMALS  \\\n",
              "0                S        3   \n",
              "1                S        3   \n",
              "2                S        3   \n",
              "3                S        3   \n",
              "4                S        3   \n",
              "\n",
              "                                               TITLE  \\\n",
              "0  Number of Total payment transactions [sum of C...   \n",
              "1  Number of Total payment transactions [sum of C...   \n",
              "2  Number of Total payment transactions [sum of C...   \n",
              "3  Number of Total payment transactions [sum of C...   \n",
              "4  Number of Total payment transactions [sum of C...   \n",
              "\n",
              "                                         TITLE_COMPL UNIT UNIT_MULT  \\\n",
              "0  Number of Total payment transactions [sum of C...   PN         6   \n",
              "1  Number of Total payment transactions [sum of C...   PN         6   \n",
              "2  Number of Total payment transactions [sum of C...   PN         6   \n",
              "3  Number of Total payment transactions [sum of C...   PN         6   \n",
              "4  Number of Total payment transactions [sum of C...   PN         6   \n",
              "\n",
              "  Transaction_Location  Transaction_Count Avg_Transaction_Amount  \n",
              "0              TOTL_AT              21314           343227.72857  \n",
              "1              TOTL_AT              21314           343227.72857  \n",
              "2              TOTL_AT              21314           343227.72857  \n",
              "3              TOTL_AT              21314           343227.72857  \n",
              "4              TOTL_AT              21314           343227.72857  \n",
              "\n",
              "[5 rows x 22 columns]"
            ],
            "text/html": [
              "\n",
              "  <div id=\"df-e635b22e-5f5b-4f7b-9cdb-f0dc4eb2e8c5\" class=\"colab-df-container\">\n",
              "    <div>\n",
              "<style scoped>\n",
              "    .dataframe tbody tr th:only-of-type {\n",
              "        vertical-align: middle;\n",
              "    }\n",
              "\n",
              "    .dataframe tbody tr th {\n",
              "        vertical-align: top;\n",
              "    }\n",
              "\n",
              "    .dataframe thead th {\n",
              "        text-align: right;\n",
              "    }\n",
              "</style>\n",
              "<table border=\"1\" class=\"dataframe\">\n",
              "  <thead>\n",
              "    <tr style=\"text-align: right;\">\n",
              "      <th></th>\n",
              "      <th>KEY</th>\n",
              "      <th>REF_AREA</th>\n",
              "      <th>COUNT_AREA</th>\n",
              "      <th>TYP_TRNSCTN</th>\n",
              "      <th>RL_TRNSCTN</th>\n",
              "      <th>FRD_TYP</th>\n",
              "      <th>TRANSFORMATION</th>\n",
              "      <th>UNIT_MEASURE</th>\n",
              "      <th>TIME_PERIOD</th>\n",
              "      <th>OBS_VALUE</th>\n",
              "      <th>...</th>\n",
              "      <th>TIME_FORMAT</th>\n",
              "      <th>TIME_PER_COLLECT</th>\n",
              "      <th>DECIMALS</th>\n",
              "      <th>TITLE</th>\n",
              "      <th>TITLE_COMPL</th>\n",
              "      <th>UNIT</th>\n",
              "      <th>UNIT_MULT</th>\n",
              "      <th>Transaction_Location</th>\n",
              "      <th>Transaction_Count</th>\n",
              "      <th>Avg_Transaction_Amount</th>\n",
              "    </tr>\n",
              "  </thead>\n",
              "  <tbody>\n",
              "    <tr>\n",
              "      <th>0</th>\n",
              "      <td>PAY.A.AT.BG.TOTL.1._Z.N.PN</td>\n",
              "      <td>AT</td>\n",
              "      <td>BG</td>\n",
              "      <td>TOTL</td>\n",
              "      <td>1</td>\n",
              "      <td>_Z</td>\n",
              "      <td>N</td>\n",
              "      <td>PN</td>\n",
              "      <td>2014</td>\n",
              "      <td>0.242</td>\n",
              "      <td>...</td>\n",
              "      <td>P1Y</td>\n",
              "      <td>S</td>\n",
              "      <td>3</td>\n",
              "      <td>Number of Total payment transactions [sum of C...</td>\n",
              "      <td>Number of Total payment transactions [sum of C...</td>\n",
              "      <td>PN</td>\n",
              "      <td>6</td>\n",
              "      <td>TOTL_AT</td>\n",
              "      <td>21314</td>\n",
              "      <td>343227.72857</td>\n",
              "    </tr>\n",
              "    <tr>\n",
              "      <th>1</th>\n",
              "      <td>PAY.A.AT.BG.TOTL.1._Z.N.PN</td>\n",
              "      <td>AT</td>\n",
              "      <td>BG</td>\n",
              "      <td>TOTL</td>\n",
              "      <td>1</td>\n",
              "      <td>_Z</td>\n",
              "      <td>N</td>\n",
              "      <td>PN</td>\n",
              "      <td>2015</td>\n",
              "      <td>0.268</td>\n",
              "      <td>...</td>\n",
              "      <td>P1Y</td>\n",
              "      <td>S</td>\n",
              "      <td>3</td>\n",
              "      <td>Number of Total payment transactions [sum of C...</td>\n",
              "      <td>Number of Total payment transactions [sum of C...</td>\n",
              "      <td>PN</td>\n",
              "      <td>6</td>\n",
              "      <td>TOTL_AT</td>\n",
              "      <td>21314</td>\n",
              "      <td>343227.72857</td>\n",
              "    </tr>\n",
              "    <tr>\n",
              "      <th>2</th>\n",
              "      <td>PAY.A.AT.BG.TOTL.1._Z.N.PN</td>\n",
              "      <td>AT</td>\n",
              "      <td>BG</td>\n",
              "      <td>TOTL</td>\n",
              "      <td>1</td>\n",
              "      <td>_Z</td>\n",
              "      <td>N</td>\n",
              "      <td>PN</td>\n",
              "      <td>2016</td>\n",
              "      <td>0.689</td>\n",
              "      <td>...</td>\n",
              "      <td>P1Y</td>\n",
              "      <td>S</td>\n",
              "      <td>3</td>\n",
              "      <td>Number of Total payment transactions [sum of C...</td>\n",
              "      <td>Number of Total payment transactions [sum of C...</td>\n",
              "      <td>PN</td>\n",
              "      <td>6</td>\n",
              "      <td>TOTL_AT</td>\n",
              "      <td>21314</td>\n",
              "      <td>343227.72857</td>\n",
              "    </tr>\n",
              "    <tr>\n",
              "      <th>3</th>\n",
              "      <td>PAY.A.AT.BG.TOTL.1._Z.N.PN</td>\n",
              "      <td>AT</td>\n",
              "      <td>BG</td>\n",
              "      <td>TOTL</td>\n",
              "      <td>1</td>\n",
              "      <td>_Z</td>\n",
              "      <td>N</td>\n",
              "      <td>PN</td>\n",
              "      <td>2017</td>\n",
              "      <td>0.632</td>\n",
              "      <td>...</td>\n",
              "      <td>P1Y</td>\n",
              "      <td>S</td>\n",
              "      <td>3</td>\n",
              "      <td>Number of Total payment transactions [sum of C...</td>\n",
              "      <td>Number of Total payment transactions [sum of C...</td>\n",
              "      <td>PN</td>\n",
              "      <td>6</td>\n",
              "      <td>TOTL_AT</td>\n",
              "      <td>21314</td>\n",
              "      <td>343227.72857</td>\n",
              "    </tr>\n",
              "    <tr>\n",
              "      <th>4</th>\n",
              "      <td>PAY.A.AT.BG.TOTL.1._Z.N.PN</td>\n",
              "      <td>AT</td>\n",
              "      <td>BG</td>\n",
              "      <td>TOTL</td>\n",
              "      <td>1</td>\n",
              "      <td>_Z</td>\n",
              "      <td>N</td>\n",
              "      <td>PN</td>\n",
              "      <td>2018</td>\n",
              "      <td>0.615</td>\n",
              "      <td>...</td>\n",
              "      <td>P1Y</td>\n",
              "      <td>S</td>\n",
              "      <td>3</td>\n",
              "      <td>Number of Total payment transactions [sum of C...</td>\n",
              "      <td>Number of Total payment transactions [sum of C...</td>\n",
              "      <td>PN</td>\n",
              "      <td>6</td>\n",
              "      <td>TOTL_AT</td>\n",
              "      <td>21314</td>\n",
              "      <td>343227.72857</td>\n",
              "    </tr>\n",
              "  </tbody>\n",
              "</table>\n",
              "<p>5 rows × 22 columns</p>\n",
              "</div>\n",
              "    <div class=\"colab-df-buttons\">\n",
              "\n",
              "  <div class=\"colab-df-container\">\n",
              "    <button class=\"colab-df-convert\" onclick=\"convertToInteractive('df-e635b22e-5f5b-4f7b-9cdb-f0dc4eb2e8c5')\"\n",
              "            title=\"Convert this dataframe to an interactive table.\"\n",
              "            style=\"display:none;\">\n",
              "\n",
              "  <svg xmlns=\"http://www.w3.org/2000/svg\" height=\"24px\" viewBox=\"0 -960 960 960\">\n",
              "    <path d=\"M120-120v-720h720v720H120Zm60-500h600v-160H180v160Zm220 220h160v-160H400v160Zm0 220h160v-160H400v160ZM180-400h160v-160H180v160Zm440 0h160v-160H620v160ZM180-180h160v-160H180v160Zm440 0h160v-160H620v160Z\"/>\n",
              "  </svg>\n",
              "    </button>\n",
              "\n",
              "  <style>\n",
              "    .colab-df-container {\n",
              "      display:flex;\n",
              "      gap: 12px;\n",
              "    }\n",
              "\n",
              "    .colab-df-convert {\n",
              "      background-color: #E8F0FE;\n",
              "      border: none;\n",
              "      border-radius: 50%;\n",
              "      cursor: pointer;\n",
              "      display: none;\n",
              "      fill: #1967D2;\n",
              "      height: 32px;\n",
              "      padding: 0 0 0 0;\n",
              "      width: 32px;\n",
              "    }\n",
              "\n",
              "    .colab-df-convert:hover {\n",
              "      background-color: #E2EBFA;\n",
              "      box-shadow: 0px 1px 2px rgba(60, 64, 67, 0.3), 0px 1px 3px 1px rgba(60, 64, 67, 0.15);\n",
              "      fill: #174EA6;\n",
              "    }\n",
              "\n",
              "    .colab-df-buttons div {\n",
              "      margin-bottom: 4px;\n",
              "    }\n",
              "\n",
              "    [theme=dark] .colab-df-convert {\n",
              "      background-color: #3B4455;\n",
              "      fill: #D2E3FC;\n",
              "    }\n",
              "\n",
              "    [theme=dark] .colab-df-convert:hover {\n",
              "      background-color: #434B5C;\n",
              "      box-shadow: 0px 1px 3px 1px rgba(0, 0, 0, 0.15);\n",
              "      filter: drop-shadow(0px 1px 2px rgba(0, 0, 0, 0.3));\n",
              "      fill: #FFFFFF;\n",
              "    }\n",
              "  </style>\n",
              "\n",
              "    <script>\n",
              "      const buttonEl =\n",
              "        document.querySelector('#df-e635b22e-5f5b-4f7b-9cdb-f0dc4eb2e8c5 button.colab-df-convert');\n",
              "      buttonEl.style.display =\n",
              "        google.colab.kernel.accessAllowed ? 'block' : 'none';\n",
              "\n",
              "      async function convertToInteractive(key) {\n",
              "        const element = document.querySelector('#df-e635b22e-5f5b-4f7b-9cdb-f0dc4eb2e8c5');\n",
              "        const dataTable =\n",
              "          await google.colab.kernel.invokeFunction('convertToInteractive',\n",
              "                                                    [key], {});\n",
              "        if (!dataTable) return;\n",
              "\n",
              "        const docLinkHtml = 'Like what you see? Visit the ' +\n",
              "          '<a target=\"_blank\" href=https://colab.research.google.com/notebooks/data_table.ipynb>data table notebook</a>'\n",
              "          + ' to learn more about interactive tables.';\n",
              "        element.innerHTML = '';\n",
              "        dataTable['output_type'] = 'display_data';\n",
              "        await google.colab.output.renderOutput(dataTable, element);\n",
              "        const docLink = document.createElement('div');\n",
              "        docLink.innerHTML = docLinkHtml;\n",
              "        element.appendChild(docLink);\n",
              "      }\n",
              "    </script>\n",
              "  </div>\n",
              "\n",
              "\n",
              "<div id=\"df-b3c416d0-072c-43f9-89b3-de9c03402f48\">\n",
              "  <button class=\"colab-df-quickchart\" onclick=\"quickchart('df-b3c416d0-072c-43f9-89b3-de9c03402f48')\"\n",
              "            title=\"Suggest charts\"\n",
              "            style=\"display:none;\">\n",
              "\n",
              "<svg xmlns=\"http://www.w3.org/2000/svg\" height=\"24px\"viewBox=\"0 0 24 24\"\n",
              "     width=\"24px\">\n",
              "    <g>\n",
              "        <path d=\"M19 3H5c-1.1 0-2 .9-2 2v14c0 1.1.9 2 2 2h14c1.1 0 2-.9 2-2V5c0-1.1-.9-2-2-2zM9 17H7v-7h2v7zm4 0h-2V7h2v10zm4 0h-2v-4h2v4z\"/>\n",
              "    </g>\n",
              "</svg>\n",
              "  </button>\n",
              "\n",
              "<style>\n",
              "  .colab-df-quickchart {\n",
              "      --bg-color: #E8F0FE;\n",
              "      --fill-color: #1967D2;\n",
              "      --hover-bg-color: #E2EBFA;\n",
              "      --hover-fill-color: #174EA6;\n",
              "      --disabled-fill-color: #AAA;\n",
              "      --disabled-bg-color: #DDD;\n",
              "  }\n",
              "\n",
              "  [theme=dark] .colab-df-quickchart {\n",
              "      --bg-color: #3B4455;\n",
              "      --fill-color: #D2E3FC;\n",
              "      --hover-bg-color: #434B5C;\n",
              "      --hover-fill-color: #FFFFFF;\n",
              "      --disabled-bg-color: #3B4455;\n",
              "      --disabled-fill-color: #666;\n",
              "  }\n",
              "\n",
              "  .colab-df-quickchart {\n",
              "    background-color: var(--bg-color);\n",
              "    border: none;\n",
              "    border-radius: 50%;\n",
              "    cursor: pointer;\n",
              "    display: none;\n",
              "    fill: var(--fill-color);\n",
              "    height: 32px;\n",
              "    padding: 0;\n",
              "    width: 32px;\n",
              "  }\n",
              "\n",
              "  .colab-df-quickchart:hover {\n",
              "    background-color: var(--hover-bg-color);\n",
              "    box-shadow: 0 1px 2px rgba(60, 64, 67, 0.3), 0 1px 3px 1px rgba(60, 64, 67, 0.15);\n",
              "    fill: var(--button-hover-fill-color);\n",
              "  }\n",
              "\n",
              "  .colab-df-quickchart-complete:disabled,\n",
              "  .colab-df-quickchart-complete:disabled:hover {\n",
              "    background-color: var(--disabled-bg-color);\n",
              "    fill: var(--disabled-fill-color);\n",
              "    box-shadow: none;\n",
              "  }\n",
              "\n",
              "  .colab-df-spinner {\n",
              "    border: 2px solid var(--fill-color);\n",
              "    border-color: transparent;\n",
              "    border-bottom-color: var(--fill-color);\n",
              "    animation:\n",
              "      spin 1s steps(1) infinite;\n",
              "  }\n",
              "\n",
              "  @keyframes spin {\n",
              "    0% {\n",
              "      border-color: transparent;\n",
              "      border-bottom-color: var(--fill-color);\n",
              "      border-left-color: var(--fill-color);\n",
              "    }\n",
              "    20% {\n",
              "      border-color: transparent;\n",
              "      border-left-color: var(--fill-color);\n",
              "      border-top-color: var(--fill-color);\n",
              "    }\n",
              "    30% {\n",
              "      border-color: transparent;\n",
              "      border-left-color: var(--fill-color);\n",
              "      border-top-color: var(--fill-color);\n",
              "      border-right-color: var(--fill-color);\n",
              "    }\n",
              "    40% {\n",
              "      border-color: transparent;\n",
              "      border-right-color: var(--fill-color);\n",
              "      border-top-color: var(--fill-color);\n",
              "    }\n",
              "    60% {\n",
              "      border-color: transparent;\n",
              "      border-right-color: var(--fill-color);\n",
              "    }\n",
              "    80% {\n",
              "      border-color: transparent;\n",
              "      border-right-color: var(--fill-color);\n",
              "      border-bottom-color: var(--fill-color);\n",
              "    }\n",
              "    90% {\n",
              "      border-color: transparent;\n",
              "      border-bottom-color: var(--fill-color);\n",
              "    }\n",
              "  }\n",
              "</style>\n",
              "\n",
              "  <script>\n",
              "    async function quickchart(key) {\n",
              "      const quickchartButtonEl =\n",
              "        document.querySelector('#' + key + ' button');\n",
              "      quickchartButtonEl.disabled = true;  // To prevent multiple clicks.\n",
              "      quickchartButtonEl.classList.add('colab-df-spinner');\n",
              "      try {\n",
              "        const charts = await google.colab.kernel.invokeFunction(\n",
              "            'suggestCharts', [key], {});\n",
              "      } catch (error) {\n",
              "        console.error('Error during call to suggestCharts:', error);\n",
              "      }\n",
              "      quickchartButtonEl.classList.remove('colab-df-spinner');\n",
              "      quickchartButtonEl.classList.add('colab-df-quickchart-complete');\n",
              "    }\n",
              "    (() => {\n",
              "      let quickchartButtonEl =\n",
              "        document.querySelector('#df-b3c416d0-072c-43f9-89b3-de9c03402f48 button');\n",
              "      quickchartButtonEl.style.display =\n",
              "        google.colab.kernel.accessAllowed ? 'block' : 'none';\n",
              "    })();\n",
              "  </script>\n",
              "</div>\n",
              "\n",
              "    </div>\n",
              "  </div>\n"
            ],
            "application/vnd.google.colaboratory.intrinsic+json": {
              "type": "dataframe",
              "variable_name": "data"
            }
          },
          "metadata": {},
          "execution_count": 18
        }
      ]
    },
    {
      "cell_type": "markdown",
      "source": [
        "\n",
        "#Modeling"
      ],
      "metadata": {
        "id": "7qU8LcxhEnPo"
      }
    },
    {
      "cell_type": "code",
      "source": [
        "import pandas as pd\n",
        "from sklearn.model_selection import train_test_split\n",
        "from sklearn.linear_model import LinearRegression\n",
        "from sklearn.metrics import mean_squared_error, r2_score\n",
        "from sklearn.preprocessing import LabelEncoder\n",
        "\n",
        "# Drop rows with missing values\n",
        "data.dropna(inplace=True)\n",
        "\n",
        "# Identify categorical columns\n",
        "categorical_columns = data.select_dtypes(include=['object']).columns\n",
        "\n",
        "# Initializing LabelEncoder\n",
        "label_encoder = LabelEncoder()\n",
        "\n",
        "# Applying LabelEncoder to each categorical column\n",
        "for col in categorical_columns:\n",
        "    data[col] = label_encoder.fit_transform(data[col])\n",
        "\n",
        "# Defining features (X) and target variable (y)\n",
        "X = data.drop(columns=['OBS_VALUE'])\n",
        "y = data['OBS_VALUE']\n",
        "\n",
        "# Spliting the dataset into training and testing sets\n",
        "X_train, X_test, y_train, y_test = train_test_split(X, y, test_size=0.2, random_state=42)\n",
        "\n",
        "# Initializing the Linear Regression model\n",
        "model1 = LinearRegression()\n",
        "\n",
        "# Training the model on the training data\n",
        "model1.fit(X_train, y_train)\n",
        "\n",
        "# Predicting the target variable on the testing data\n",
        "y_predict = model1.predict(X_test)\n",
        "\n",
        "# Evaluate the model's performance\n",
        "mse = mean_squared_error(y_test, y_predict)\n",
        "rmse = mean_squared_error(y_test, y_predict, squared=False)\n",
        "r2 = r2_score(y_test, y_predict)\n",
        "\n",
        "print(\"Mean Squared Error (MSE) on Test Set:\", mse)\n",
        "print(\"Root Mean Squared Error (RMSE) on Test Set:\", rmse)\n",
        "print(\"R-squared (R2) Score on Test Set:\", r2)\n"
      ],
      "metadata": {
        "id": "3tK0rSws9y24",
        "colab": {
          "base_uri": "https://localhost:8080/"
        },
        "outputId": "c680487e-d16f-4560-c531-11f03f1f7dc3"
      },
      "execution_count": null,
      "outputs": [
        {
          "output_type": "stream",
          "name": "stdout",
          "text": [
            "Mean Squared Error (MSE) on Test Set: 3221902667126.943\n",
            "Root Mean Squared Error (RMSE) on Test Set: 1794965.923667339\n",
            "R-squared (R2) Score on Test Set: 0.03773525779014819\n"
          ]
        }
      ]
    },
    {
      "cell_type": "code",
      "source": [
        "import pandas as pd\n",
        "from sklearn.model_selection import train_test_split\n",
        "from sklearn.ensemble import RandomForestRegressor\n",
        "from sklearn.metrics import mean_squared_error, r2_score\n",
        "from sklearn.preprocessing import LabelEncoder\n",
        "\n",
        "\n",
        "# Droping rows with missing values\n",
        "data.dropna(inplace=True)\n",
        "\n",
        "# Label encode categorical columns\n",
        "label_encoder = LabelEncoder()\n",
        "cat_cols = data.select_dtypes(include=['object']).columns\n",
        "for col in cat_cols:\n",
        "    data[col] = label_encoder.fit_transform(data[col])\n",
        "\n",
        "# Define features (X) and target variable (y)\n",
        "X = data.drop(columns=['OBS_VALUE'])\n",
        "y = data['OBS_VALUE']  # Target variable\n",
        "\n",
        "# Spliting the dataset into training and testing sets\n",
        "X_train, X_test, y_train, y_test = train_test_split(X, y, test_size=0.2, random_state=42)\n",
        "\n",
        "# Initializing the Random Forest Regressor model\n",
        "model2 = RandomForestRegressor(n_estimators=100, random_state=42)\n",
        "\n",
        "# Training the model on the training data\n",
        "model2.fit(X_train, y_train)\n",
        "\n",
        "# Predict the target variable on the testing data\n",
        "y_predict2 = model2.predict(X_test)\n",
        "\n",
        "# Evaluate the model's performance\n",
        "mse = mean_squared_error(y_test, y_predict2)\n",
        "rmse = mean_squared_error(y_test, y_predict2, squared=False)\n",
        "r2 = r2_score(y_test, y_predict2)\n",
        "\n",
        "print(\"Mean Squared Error (MSE) on Test Set:\", mse)\n",
        "print(\"Root Mean Squared Error (RMSE) on Test Set:\", rmse)\n",
        "print(\"R-squared (R2) Score on Test Set:\", r2)\n"
      ],
      "metadata": {
        "id": "WJ-uZQNDGj6i",
        "colab": {
          "base_uri": "https://localhost:8080/"
        },
        "outputId": "56ea13f8-3197-4417-c78c-26673ddc0a49"
      },
      "execution_count": null,
      "outputs": [
        {
          "output_type": "stream",
          "name": "stdout",
          "text": [
            "Mean Squared Error (MSE) on Test Set: 255802717359.91684\n",
            "Root Mean Squared Error (RMSE) on Test Set: 505769.43102555815\n",
            "R-squared (R2) Score on Test Set: 0.9236010639339336\n"
          ]
        }
      ]
    },
    {
      "cell_type": "markdown",
      "source": [
        "#Feature Importance Analysis:"
      ],
      "metadata": {
        "id": "nKVQho8sjw7d"
      }
    },
    {
      "cell_type": "code",
      "source": [
        "import matplotlib.pyplot as plt\n",
        "\n",
        "# Geting feature importances from the trained model\n",
        "imp_features = model2.feature_importances_\n",
        "\n",
        "# Geting feature names\n",
        "feature_names = X.columns\n",
        "\n",
        "# Creating a DataFrame to store feature importances\n",
        "imp_features_df = pd.DataFrame({'Feature': feature_names, 'Importance': imp_features})\n",
        "\n",
        "# Sorting the DataFrame by feature importance in descending order\n",
        "imp_features_df = imp_features_df.sort_values(by='Importance', ascending=False)\n",
        "\n",
        "# Plot feature importances\n",
        "plt.figure(figsize=(10, 6))\n",
        "plt.barh(imp_features_df['Feature'], imp_features_df['Importance'], color='skyblue')\n",
        "plt.xlabel('Importance')\n",
        "plt.ylabel('Feature')\n",
        "plt.title('Feature Importance')\n",
        "plt.gca().invert_yaxis()\n",
        "plt.show()\n"
      ],
      "metadata": {
        "id": "hld7mY6KiwFV",
        "colab": {
          "base_uri": "https://localhost:8080/",
          "height": 564
        },
        "outputId": "37a459e2-e1a0-49cf-8b55-45e6ed2f40fb"
      },
      "execution_count": null,
      "outputs": [
        {
          "output_type": "display_data",
          "data": {
            "text/plain": [
              "<Figure size 1000x600 with 1 Axes>"
            ],
            "image/png": "[encoded data removed]"
          },
          "metadata": {}
        }
      ]
    },
    {
      "cell_type": "code",
      "source": [
        "# Selecting top transaction attributes based on feature importance\n",
        "top_attributes = imp_features_df['Feature'].head(10).tolist()\n",
        "\n",
        "# Defining privacy risk metrics based on required conditions\n",
        "privacy_risk_metrics = ['Data Sensitivity', 'Exposure of Personal Information', 'Compliance with Privacy Regulations']\n",
        "\n",
        "# Assessing correlation between top attributes and privacy risk metrics\n",
        "attribute_correlation = data[top_attributes].corrwith(data['OBS_VALUE'])\n",
        "\n",
        "# Normalizing attribute correlations to range [0, 1]\n",
        "normalized_correlation = (attribute_correlation - attribute_correlation.min()) / (attribute_correlation.max() - attribute_correlation.min())\n",
        "\n",
        "# Defining weights for privacy risk metrics based on importance\n",
        "privacy_risk_weights = [0.4, 0.3, 0.3]\n",
        "\n",
        "# Calculating privacy risk scores for each attribute\n",
        "privacy_risk_scores = {}\n",
        "for attribute in top_attributes:\n",
        "    attribute_corr = data[attribute].corr(data['OBS_VALUE'])\n",
        "    privacy_risk_score = attribute_corr * pd.Series(privacy_risk_weights)\n",
        "    privacy_risk_scores[attribute] = privacy_risk_score\n",
        "\n",
        "# Print privacy risk scores for each attribute\n",
        "for attribute, score in privacy_risk_scores.items():\n",
        "    print(f\"Privacy Risk Score for {attribute}: {score.sum()}\")\n",
        "\n"
      ],
      "metadata": {
        "id": "ckcVzb7VlxB-",
        "colab": {
          "base_uri": "https://localhost:8080/"
        },
        "outputId": "0bb16f12-a4ba-4433-d043-421ac3601788"
      },
      "execution_count": null,
      "outputs": [
        {
          "output_type": "stream",
          "name": "stdout",
          "text": [
            "Privacy Risk Score for KEY: 0.011409794363678984\n",
            "Privacy Risk Score for REF_AREA: -0.020977737782042493\n",
            "Privacy Risk Score for COUNT_AREA: 0.06903049497902711\n",
            "Privacy Risk Score for TIME_PERIOD: -0.015565264117013753\n",
            "Privacy Risk Score for TITLE_COMPL: 0.09167201316095273\n",
            "Privacy Risk Score for TITLE: 0.09167201316095273\n",
            "Privacy Risk Score for Avg_Transaction_Amount: 0.10277077727700498\n",
            "Privacy Risk Score for OBS_STATUS: 0.11462285824177948\n",
            "Privacy Risk Score for Transaction_Location: 0.03297203004364042\n",
            "Privacy Risk Score for TRANSFORMATION: 0.004839805679568472\n"
          ]
        }
      ]
    },
    {
      "cell_type": "markdown",
      "source": [
        "#Risk Stratification:\n"
      ],
      "metadata": {
        "id": "Okzrp5DHnirn"
      }
    },
    {
      "cell_type": "code",
      "source": [
        "# Defining risk score thresholds for risk stratification\n",
        "low_threshold_val = 0.01\n",
        "medium_threshold_val = 0.03\n",
        "\n",
        "# Functioning to stratify privacy risk scores\n",
        "def stratify_risk(score):\n",
        "    if score < low_threshold_val:\n",
        "        return 'Low'\n",
        "    elif score < medium_threshold_val:\n",
        "        return 'Medium'\n",
        "    else:\n",
        "        return 'High'\n",
        "\n",
        "# Calculating privacy risk scores for each attribute\n",
        "privacy_risk_scores = {\n",
        "    'KEY': 0.011409794363678984,\n",
        "    'REF_AREA': -0.020977737782042493,\n",
        "    'COUNT_AREA': 0.06903049497902711,\n",
        "    'TIME_PERIOD': -0.015565264117013753,\n",
        "    'TITLE_COMPL': 0.09167201316095273,\n",
        "    'TITLE': 0.09167201316095273,\n",
        "    'Avg_Transaction_Amount': 0.10277077727700498,\n",
        "    'OBS_STATUS': 0.11462285824177948,\n",
        "    'Transaction_Location': 0.03297203004364042,\n",
        "    'TRANSFORMATION': 0.004839805679568472\n",
        "}\n",
        "\n",
        "# Stratifying privacy risk scores\n",
        "stratified_risk_scores = {attribute: stratify_risk(score) for attribute, score in privacy_risk_scores.items()}\n",
        "\n",
        "# Print the stratified risk scores\n",
        "for attribute, risk_level in stratified_risk_scores.items():\n",
        "    print(f\"Privacy Risk Level for {attribute}: {risk_level}\")\n"
      ],
      "metadata": {
        "id": "ExMhhg2Fm44v",
        "colab": {
          "base_uri": "https://localhost:8080/"
        },
        "outputId": "6600dc95-958b-4b4e-bfd1-3d9f10c95e81"
      },
      "execution_count": null,
      "outputs": [
        {
          "output_type": "stream",
          "name": "stdout",
          "text": [
            "Privacy Risk Level for KEY: Medium\n",
            "Privacy Risk Level for REF_AREA: Low\n",
            "Privacy Risk Level for COUNT_AREA: High\n",
            "Privacy Risk Level for TIME_PERIOD: Low\n",
            "Privacy Risk Level for TITLE_COMPL: High\n",
            "Privacy Risk Level for TITLE: High\n",
            "Privacy Risk Level for Avg_Transaction_Amount: High\n",
            "Privacy Risk Level for OBS_STATUS: High\n",
            "Privacy Risk Level for Transaction_Location: High\n",
            "Privacy Risk Level for TRANSFORMATION: Low\n"
          ]
        }
      ]
    },
    {
      "cell_type": "code",
      "source": [
        "import matplotlib.pyplot as plt\n",
        "\n",
        "# Converting the stratified risk scores dictionary to lists for plotting\n",
        "attribute_vari = list(stratified_risk_scores.keys())\n",
        "risk_levels_lst = list(stratified_risk_scores.values())\n",
        "\n",
        "# Creating a bar plot for each attribute\n",
        "plt.figure(figsize=(10, 6))\n",
        "plt.bar(attribute_vari, risk_levels_lst, color=['green', 'orange', 'red'])\n",
        "plt.xlabel('Attribute')\n",
        "plt.ylabel('Risk Level')\n",
        "plt.title('Privacy Risk Level for Each Attribute')\n",
        "plt.xticks(rotation=45)\n",
        "plt.show()\n",
        "\n",
        "\n"
      ],
      "metadata": {
        "id": "P-MrNB1pUlyj",
        "colab": {
          "base_uri": "https://localhost:8080/",
          "height": 683
        },
        "outputId": "19a78878-dbab-4a7c-ebb8-25d45e0070ec"
      },
      "execution_count": null,
      "outputs": [
        {
          "output_type": "display_data",
          "data": {
            "text/plain": [
              "<Figure size 1000x600 with 1 Axes>"
            ],
            "image/png": "[encoded data removed]"
          },
          "metadata": {}
        }
      ]
    },
    {
      "cell_type": "markdown",
      "source": [
        "#Risk Aggregation:\n"
      ],
      "metadata": {
        "id": "26_Rqu6MoRcQ"
      }
    },
    {
      "cell_type": "code",
      "source": [
        "# Defining weights for each attribute (assuming equal weights for simplicity)\n",
        "attribute_weights = {\n",
        "    'KEY':1,\n",
        "    'REF_AREA': 1,\n",
        "    'COUNT_AREA': 1,\n",
        "    'TIME_PERIOD': 1,\n",
        "    'TITLE_COMPL': 1,\n",
        "    'TITLE': 1,\n",
        "    'Avg_Transaction_Amount': 1,\n",
        "    'OBS_STATUS':1,\n",
        "    'Transaction_Location': 1,\n",
        "    'TRANSFORMATION': 1\n",
        "}\n",
        "\n",
        "# Functioning to aggregate privacy risk scores for each transaction\n",
        "def aggregate_risk_scores(risk_scores, weights):\n",
        "    total_weight = sum(weights.values())\n",
        "    weighted_sum = sum(score * weights[attribute] for attribute, score in risk_scores.items())\n",
        "    aggregated_score = weighted_sum / total_weight\n",
        "    return aggregated_score\n",
        "\n",
        "# Converting privacy risk levels to numerical values (for aggregation)\n",
        "privacy_risk_levels = {\n",
        "    'Low': 1,\n",
        "    'Medium': 2,\n",
        "    'High': 3\n",
        "}\n",
        "\n",
        "# Aggregating privacy risk scores for each transaction\n",
        "privacy_risk_scores = {\n",
        "    'KEY': privacy_risk_levels['Medium'],\n",
        "    'REF_AREA': privacy_risk_levels['Low'],\n",
        "    'COUNT_AREA': privacy_risk_levels['High'],\n",
        "    'TIME_PERIOD': privacy_risk_levels['Low'],\n",
        "    'TITLE_COMPL': privacy_risk_levels['High'],\n",
        "    'TITLE': privacy_risk_levels['High'],\n",
        "    'Avg_Transaction_Amount': privacy_risk_levels['High'],\n",
        "    'OBS_STATUS': privacy_risk_levels['High'],\n",
        "    'Transaction_Location': privacy_risk_levels['High'],\n",
        "    'TRANSFORMATION': privacy_risk_levels['Low']\n",
        "}\n",
        "\n",
        "# Reversing the privacy risk levels dictionary for mapping later\n",
        "reversing_privacy_risk_levels = {v: k for k, v in privacy_risk_levels.items()}\n",
        "\n",
        "# Aggregate the privacy risk scores using weights\n",
        "overall_risk_score = aggregate_risk_scores(privacy_risk_scores, attribute_weights)\n",
        "\n",
        "# Mapping the aggregated score to privacy risk levels\n",
        "overall_risk_level = reversing_privacy_risk_levels[int(overall_risk_score)]\n",
        "\n",
        "print(\"Overall Privacy Risk Level for the Transaction:\", overall_risk_level)\n"
      ],
      "metadata": {
        "id": "FCZy7kfIoHSi",
        "colab": {
          "base_uri": "https://localhost:8080/"
        },
        "outputId": "6903cd37-84d1-444b-c1cb-23b8909d49a0"
      },
      "execution_count": null,
      "outputs": [
        {
          "output_type": "stream",
          "name": "stdout",
          "text": [
            "Overall Privacy Risk Level for the Transaction: Medium\n"
          ]
        }
      ]
    }
  ]
}